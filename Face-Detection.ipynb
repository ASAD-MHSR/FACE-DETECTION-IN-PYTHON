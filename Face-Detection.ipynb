{
 "cells": [
  {
   "cell_type": "code",
   "execution_count": 5,
   "id": "200f7591-c5bc-42fe-9f9b-7fdeed66d619",
   "metadata": {},
   "outputs": [],
   "source": [
    "import cv2\n",
    "\n",
    "# Load the Haar Cascade for face detection\n",
    "face_cap = cv2.CascadeClassifier(\"C:/Users/ASAD_MHSR/AppData/Local/Programs/Python/Python313/Lib/site-packages/cv2/data/haarcascade_frontalface_default.xml\")\n",
    "video_cap = cv2.VideoCapture(0)\n",
    "\n",
    "while True:\n",
    "    ret, video_data = video_cap.read()\n",
    "    \n",
    "    # Check if the frame was read successfully\n",
    "    if not ret:\n",
    "        print(\"Error: Failed to capture frame from video source.\")\n",
    "        break  # Exit the loop if frame capture fails\n",
    "\n",
    "    col = cv2.cvtColor(video_data, cv2.COLOR_BGR2GRAY)\n",
    "    faces = face_cap.detectMultiScale(\n",
    "        col,\n",
    "        scaleFactor=1.1,\n",
    "        minNeighbors=5,\n",
    "        minSize=(30, 30),\n",
    "        flags=cv2.CASCADE_SCALE_IMAGE\n",
    "    )\n",
    "    \n",
    "    # Draw rectangle around detected faces\n",
    "    for (x, y, w, h) in faces:\n",
    "        cv2.rectangle(video_data, (x, y), (x + w, y + h), (0, 255, 0), 2)\n",
    "    \n",
    "    # Add smaller text at the bottom of the frame\n",
    "    text = \"Created by ASADULLAH\"\n",
    "    \n",
    "    # Get the text size to position it at the bottom of the frame\n",
    "    font = cv2.FONT_HERSHEY_SIMPLEX\n",
    "    font_scale = 0.5  # Smaller font scale\n",
    "    text_size = cv2.getTextSize(text, font, font_scale, 1)[0]\n",
    "    text_x = (video_data.shape[1] - text_size[0]) // 2  # Horizontally center the text\n",
    "    text_y = video_data.shape[0] - 10  # Position the text 10 pixels from the bottom\n",
    "\n",
    "    # Add the text to the frame\n",
    "    cv2.putText(video_data, text, (text_x, text_y), font, font_scale, (255, 255, 255), 1, cv2.LINE_AA)\n",
    "\n",
    "    # Show the video frame\n",
    "    cv2.imshow(\"video_live\", video_data)\n",
    "    \n",
    "    # Break the loop if 'a' key is pressed\n",
    "    if cv2.waitKey(10) == ord(\"a\"):\n",
    "        break\n",
    "\n",
    "# Release video capture and close windows\n",
    "video_cap.release()\n",
    "cv2.destroyAllWindows()\n"
   ]
  }
 ],
 "metadata": {
  "kernelspec": {
   "display_name": "Python 3 (ipykernel)",
   "language": "python",
   "name": "python3"
  },
  "language_info": {
   "codemirror_mode": {
    "name": "ipython",
    "version": 3
   },
   "file_extension": ".py",
   "mimetype": "text/x-python",
   "name": "python",
   "nbconvert_exporter": "python",
   "pygments_lexer": "ipython3",
   "version": "3.13.0"
  }
 },
 "nbformat": 4,
 "nbformat_minor": 5
}
